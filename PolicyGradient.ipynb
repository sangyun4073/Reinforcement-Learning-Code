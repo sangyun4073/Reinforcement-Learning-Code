{
 "cells": [
  {
   "cell_type": "code",
   "execution_count": 7,
   "metadata": {},
   "outputs": [
    {
     "data": {
      "text/plain": [
       "['c:\\\\users\\\\sy\\\\anaconda3\\\\envs\\\\rlcode\\\\python36.zip',\n",
       " 'c:\\\\users\\\\sy\\\\anaconda3\\\\envs\\\\rlcode\\\\DLLs',\n",
       " 'c:\\\\users\\\\sy\\\\anaconda3\\\\envs\\\\rlcode\\\\lib',\n",
       " 'c:\\\\users\\\\sy\\\\anaconda3\\\\envs\\\\rlcode',\n",
       " '',\n",
       " 'c:\\\\users\\\\sy\\\\anaconda3\\\\envs\\\\rlcode\\\\lib\\\\site-packages',\n",
       " 'c:\\\\users\\\\sy\\\\gym\\\\baselines',\n",
       " 'c:\\\\users\\\\sy\\\\anaconda3\\\\envs\\\\rlcode\\\\lib\\\\site-packages\\\\win32',\n",
       " 'c:\\\\users\\\\sy\\\\anaconda3\\\\envs\\\\rlcode\\\\lib\\\\site-packages\\\\win32\\\\lib',\n",
       " 'c:\\\\users\\\\sy\\\\anaconda3\\\\envs\\\\rlcode\\\\lib\\\\site-packages\\\\Pythonwin',\n",
       " 'c:\\\\users\\\\sy\\\\anaconda3\\\\envs\\\\rlcode\\\\lib\\\\site-packages\\\\IPython\\\\extensions',\n",
       " 'C:\\\\Users\\\\sy\\\\.ipython',\n",
       " 'ReinforcementLearningAtoZ']"
      ]
     },
     "execution_count": 7,
     "metadata": {},
     "output_type": "execute_result"
    }
   ],
   "source": [
    "import sys\n",
    "sys.path.append('ReinforcementLearningAtoZ')\n",
    "#jupyter에서는 폴더경로를 추가할때는 처음에는 /를 안붙여도 된다."
   ]
  },
  {
   "cell_type": "code",
   "execution_count": 8,
   "metadata": {},
   "outputs": [],
   "source": [
    "import gym\n",
    "import torch\n",
    "import matplotlib.pyplot as plt\n",
    "\n",
    "from src.part3.MLP import MultiLayerPerceptron as MLP\n",
    "from src.part4.PolicyGradient import REINFORCE\n",
    "from src.common.train_utils import EMAMeter, to_tensor"
   ]
  },
  {
   "cell_type": "code",
   "execution_count": 10,
   "metadata": {},
   "outputs": [],
   "source": [
    "env = gym.make('CartPole-v1')\n",
    "s_dim = env.observation_space.shape[0]\n",
    "a_dim = env.action_space.n"
   ]
  },
  {
   "cell_type": "markdown",
   "metadata": {},
   "source": [
    "## REINFORCE 알고리즘으로, 'CartPole-V1'을 정복하기.\n",
    "\n",
    "이번 실습에서는 `REINFORCE` 알고리즘으로 `CartPole-V1` MDP를 정복해볼까요?\n",
    "`REINFORCE`의 의사코드는 다음과 같습니다.\n",
    "\n",
    "<img src=\"./images/REINFORCE.png\" width=\"60%\" height=\"40%\" title=\"REINFORCE\" alt=\"REINFORCE\"></img>\n",
    "\n",
    "`REINFORCE` 알고리즘을 파이썬으로는 어떻게 구현할까요?\n",
    "```python\n",
    "import torch.nn as nn\n",
    "from torch.distributions.categorical import Categorical\n",
    "\n",
    "class REINFORCE(nn.Module):\n",
    "\n",
    "    def __init__(self,\n",
    "                 policy: nn.Module,\n",
    "                 gamma: float = 1.0,\n",
    "                 lr: float = 0.0002):\n",
    "        super(REINFORCE, self).__init__()\n",
    "        self.policy = policy  # make sure that 'policy' returns logits!\n",
    "        self.gamma = gamma\n",
    "        self.opt = torch.optim.Adam(params=self.policy.parameters(),\n",
    "                                    lr=lr)\n",
    "\n",
    "        self._eps = 1e-25\n",
    "\n",
    "    def get_action(self, state):\n",
    "        with torch.no_grad():\n",
    "            logits = self.policy(state)\n",
    "            dist = Categorical(logits=logits)\n",
    "            a = dist.sample()  # sample action from softmax policy\n",
    "        return a\n",
    "```\n",
    "\n",
    "### Logit? Catergorical?\n",
    "\n",
    "Catergorical distribution (다항분포) 는 이항분포의 확장판입니다. <br>\n",
    "\n",
    ">이항분포는 사건의 종류가 2개일 상황을 (예를 들어 한번 동전을 던져서 앞/뒤가 나올 확률) 모델링 할 때 자주 쓰이게 됩니다.\n",
    "이항 분포의 매개변수는 $p$ 로 하나의 사건이 나올 확률을 표현합니다. 이때 $0 \\leq p \\leq 1$ 를 따르게 됩니다.\n",
    "\n",
    "그렇다면 사건의 종류가 2개보다 많은 경우는 어떻게 할 수 있을까요? 그런 경우에 다항 분포를 사용해볼 수 있습니다.\n",
    "\n",
    "> 사건의 종류가 $n$ 개 일때, 다항분포의 매개변수들 $(p_1, ..., p_n)$ 이 되며, $p_i$ 는 각 사건이 일어날 확률을 표현합니다.\n",
    "> 따라서 $p_i$ 는 모두 0보다 크거나 같고, $\\sum_{i=1}^{n} p_i =1$ 을 만족시켜야 합니다.\n",
    "\n",
    "자 그러면, 이제 신경망 `self.policy(state)` 출력이 위의 조건을 만족시키게 만들 수 있을까요? 다양한 방법이 존재하지만, 가장 일반적인 선택은\n",
    "softmax라는 연산자를 활용하는 것입니다.\n",
    "\n",
    "$$\\sigma(z)_i = \\frac{e^{z_i}}{\\sum_{j=1}^{n}e^{z_j}} \\forall i=1,...,n$$\n",
    "\n",
    "임의의 값들의 집합 $\\{{z_i}\\}_{i=1}^{n}$ 에 위에서 정의한 softmax 연산자를 가해주면, 모든 값들은 0 이상의 값으로 바뀌고 값들의 합은 1.0 이 되게 됩니다.\n",
    "이때, $z_i$ 를 일반적으로 logit 이라고 부릅니다."
   ]
  }
 ],
 "metadata": {
  "kernelspec": {
   "display_name": "Python 3",
   "language": "python",
   "name": "python3"
  },
  "language_info": {
   "codemirror_mode": {
    "name": "ipython",
    "version": 3
   },
   "file_extension": ".py",
   "mimetype": "text/x-python",
   "name": "python",
   "nbconvert_exporter": "python",
   "pygments_lexer": "ipython3",
   "version": "3.6.10"
  }
 },
 "nbformat": 4,
 "nbformat_minor": 4
}
