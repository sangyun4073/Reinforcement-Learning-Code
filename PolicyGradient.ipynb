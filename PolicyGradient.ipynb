{
 "cells": [
  {
   "cell_type": "code",
   "execution_count": 2,
   "metadata": {},
   "outputs": [],
   "source": [
    "import sys\n",
    "sys.path.append('c:\\\\users\\\\sy\\\\ReinforcementLearningAtoZ')\n",
    "\n",
    "#jupyter에서는 폴더경로를 추가할때는 처음에는 /를 안붙여도 된다."
   ]
  },
  {
   "cell_type": "code",
   "execution_count": 3,
   "metadata": {},
   "outputs": [],
   "source": [
    "import gym\n",
    "import torch\n",
    "\n",
    "from src.part3.MLP import MultiLayerPerceptron as MLP\n",
    "from src.part4.PolicyGradient import REINFORCE\n",
    "from src.common.train_utils import EMAMeter, to_tensor\n",
    "from src.common.memory.episodic_memory import EpisodicMemory\n"
   ]
  },
  {
   "cell_type": "code",
   "execution_count": 4,
   "metadata": {},
   "outputs": [],
   "source": [
    "import torch.nn as nn \n",
    "# nn = neural network\n",
    "from torch.distributions.categorical import Categorical \n",
    "# Categorical은 Distribution의 종류중 하나이다.\n",
    "\n",
    "#REINFORCE는 nn.Module을 상속받는다. \n",
    "class REINFORCE(nn.Module):\n",
    "\n",
    "    def __init__(self,\n",
    "                 policy: nn.Module,\n",
    "                 gamma: float = 1.0,\n",
    "                 lr: float = 0.0002):\n",
    "        super(REINFORCE, self).__init__()\n",
    "        self.policy = policy  # make sure that 'policy' returns logits!\n",
    "        self.gamma = gamma\n",
    "        self.opt = torch.optim.Adam(params=self.policy.parameters(),\n",
    "                                    lr=lr)\n",
    "        #_eps는 log probability가 -무한대가 되지 않기 위해서 더해주는 \n",
    "        self._eps = 1e-25\n",
    "\n",
    "    def get_action(self, state):\n",
    "        with torch.no_grad():\n",
    "            logits = self.policy(state)\n",
    "            dist = Categorical(logits=logits)\n",
    "            a = dist.sample()  # sample action from softmax policy\n",
    "        return a\n",
    "\n",
    "    def _pre_process_inputs(episode) :\n",
    "        states, actions, rewards = episode #tuple로 저장이 된다.\n",
    "\n",
    "            # s : torch.tensor [num.steps x state_dim] , Cart-Pole [steps x 4]\n",
    "            # a : torch.tensor [num.steps]\n",
    "            # r : torch.tensor [num.steps]\n",
    "\n",
    "        states = states.flip(dims=[0])\n",
    "        actions = actions.flip(dims=[0])\n",
    "        rewards = rewards.flip(dims=[0])\n",
    "\n",
    "        return states, actions, rewards\n",
    "\n",
    "    # update는 delta theta의 값을 넣는 것이다.\n",
    "    def update(self, episode) :\n",
    "            # sample-by-sample update version of REINFORCE\n",
    "            # sample-by-sample update version is highly inefficient in computation\n",
    "\n",
    "        states, actions, rewards = self._pre_process_inputs(episode)\n",
    "\n",
    "        g = 0 #return value\n",
    "        for s, a, r in zip(states, actions, rewards) : \n",
    "            #zip은 같은 크기의 데이터를 묶는다\n",
    "            g = r + self.gamma * g\n",
    "            dist = Categorical(logits = self.policy(s))\n",
    "            prob = dist.probs[a] #prob = Pi theta(a|s) \n",
    "\n",
    "            # Don't forget to put '-' in the front of pg_loss !!!!!!!!!!!!!!!!\n",
    "            # the default behavior of pytorch's optimizer is to minimize the targets\n",
    "            # add 'self_eps' to prevent numerical problems of logarithms\n",
    "            pg_loss = - torch.log(prob + self._eps) * g\n",
    "\n",
    "            self.opt.zero_grad()\n",
    "            pg_loss.backward()\n",
    "            self.opt.step()\n",
    "            \n",
    "    def update_episodes(self, states, actions, returns, use_norm=False) :\n",
    "        # episode batch update version of REINFORCE\n",
    "        \n",
    "        if use_norm :\n",
    "            returns = (returns - returns.mean()) / (returns.std() + self._eps)\n",
    "        \n",
    "        dist = Categorical(logits = self.policy(states))\n",
    "        prob = dist.probs[range(states.shape[0]), actions]\n",
    "        \n",
    "        self.opt.zero_grad()\n",
    "        \n",
    "        #compute policy gradient loss\n",
    "        pg_loss = -torch.log(prob+self._eps)*returns.squeeze() # [num. steps x 1]\n",
    "        pg_loss = pg_loss.mean()\n",
    "        pg_loss.backward()\n",
    "        \n",
    "        self.opt.step()\n",
    "        \n"
   ]
  },
  {
   "cell_type": "code",
   "execution_count": 5,
   "metadata": {},
   "outputs": [
    {
     "name": "stderr",
     "output_type": "stream",
     "text": [
      "c:\\users\\sy\\anaconda3\\envs\\rlcode\\lib\\site-packages\\gym\\logger.py:30: UserWarning: \u001b[33mWARN: Box bound precision lowered by casting to float32\u001b[0m\n",
      "  warnings.warn(colorize('%s: %s'%('WARN', msg % args), 'yellow'))\n"
     ]
    },
    {
     "name": "stdout",
     "output_type": "stream",
     "text": [
      "Episode 0 || EMA: tensor([[17.]]) \n",
      "Episode 500 || EMA: tensor([[258.4794]]) \n",
      "Episode 1000 || EMA: tensor([[424.2029]]) \n",
      "Episode 1500 || EMA: tensor([[301.2433]]) \n",
      "Episode 2000 || EMA: tensor([[489.7496]]) \n",
      "Episode 2500 || EMA: tensor([[500.]]) \n",
      "Episode 3000 || EMA: tensor([[497.8359]]) \n",
      "Episode 3500 || EMA: tensor([[500.]]) \n",
      "Episode 4000 || EMA: tensor([[500.]]) \n",
      "Episode 4500 || EMA: tensor([[500.]]) \n",
      "Episode 5000 || EMA: tensor([[500.0000]]) \n",
      "Episode 5500 || EMA: tensor([[482.1875]]) \n",
      "Episode 6000 || EMA: tensor([[384.2612]]) \n",
      "Episode 6500 || EMA: tensor([[435.6323]]) \n",
      "Episode 7000 || EMA: tensor([[500.]]) \n",
      "Episode 7500 || EMA: tensor([[500.]]) \n",
      "Episode 8000 || EMA: tensor([[492.5000]]) \n",
      "Episode 8500 || EMA: tensor([[500.]]) \n",
      "Episode 9000 || EMA: tensor([[499.9999]]) \n",
      "Episode 9500 || EMA: tensor([[500.]]) \n"
     ]
    }
   ],
   "source": [
    "env = gym.make('CartPole-v1')\n",
    "s_dim = env.observation_space.shape[0]\n",
    "a_dim = env.action_space.n\n",
    "\n",
    "net = MLP(s_dim, a_dim, [128])\n",
    "#여기서 net은 policy역활을 한다.\n",
    "agent = REINFORCE(net, lr = 0.001)\n",
    "ema = EMAMeter()\n",
    "memory = EpisodicMemory(max_size=100, gamma=1.0)\n",
    "\n",
    "n_eps = 10000\n",
    "update_every = 1\n",
    "print_every = 500\n",
    "\n",
    "for ep in range(n_eps):\n",
    "    s = env.reset()\n",
    "    cum_r = 0\n",
    "    states = []\n",
    "    actions = []\n",
    "    rewards = []\n",
    "\n",
    "    while True:\n",
    "        s = to_tensor(s, size=(1, 4))\n",
    "        a = agent.get_action(s)\n",
    "        ns, r, done, info = env.step(a.item())\n",
    "\n",
    "        # preprocess data\n",
    "        r = torch.ones(1, 1) * r\n",
    "        done = torch.ones(1, 1) * done\n",
    "\n",
    "        memory.push(s, a, r, torch.tensor(ns), done)\n",
    "\n",
    "        s = ns\n",
    "        cum_r += r\n",
    "        if done:\n",
    "            break\n",
    "\n",
    "    ema.update(cum_r)\n",
    "    if ep % print_every == 0:\n",
    "        print(\"Episode {} || EMA: {} \".format(ep, ema.s))\n",
    "\n",
    "    if ep % update_every == 0:\n",
    "        s, a, _, _, done, g = memory.get_samples()\n",
    "        agent.update_episodes(s, a, g, use_norm=False)\n",
    "        memory.reset()\n"
   ]
  },
  {
   "cell_type": "code",
   "execution_count": 1,
   "metadata": {},
   "outputs": [
    {
     "ename": "NameError",
     "evalue": "name 'a' is not defined",
     "output_type": "error",
     "traceback": [
      "\u001b[1;31m---------------------------------------------------------------------------\u001b[0m",
      "\u001b[1;31mNameError\u001b[0m                                 Traceback (most recent call last)",
      "\u001b[1;32m<ipython-input-1-cd1bda83583f>\u001b[0m in \u001b[0;36m<module>\u001b[1;34m\u001b[0m\n\u001b[1;32m----> 1\u001b[1;33m \u001b[0ma\u001b[0m\u001b[1;33m.\u001b[0m\u001b[0mitem\u001b[0m\u001b[1;33m(\u001b[0m\u001b[1;33m)\u001b[0m\u001b[1;33m\u001b[0m\u001b[1;33m\u001b[0m\u001b[0m\n\u001b[0m",
      "\u001b[1;31mNameError\u001b[0m: name 'a' is not defined"
     ]
    }
   ],
   "source": [
    "a.item()"
   ]
  },
  {
   "cell_type": "code",
   "execution_count": null,
   "metadata": {},
   "outputs": [],
   "source": [
    " "
   ]
  }
 ],
 "metadata": {
  "kernelspec": {
   "display_name": "Python 3",
   "language": "python",
   "name": "python3"
  },
  "language_info": {
   "codemirror_mode": {
    "name": "ipython",
    "version": 3
   },
   "file_extension": ".py",
   "mimetype": "text/x-python",
   "name": "python",
   "nbconvert_exporter": "python",
   "pygments_lexer": "ipython3",
   "version": "3.6.10"
  }
 },
 "nbformat": 4,
 "nbformat_minor": 4
}
