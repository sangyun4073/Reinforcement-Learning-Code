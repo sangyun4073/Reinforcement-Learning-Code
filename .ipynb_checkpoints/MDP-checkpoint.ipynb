{
 "cells": [
  {
   "cell_type": "code",
   "execution_count": 7,
   "metadata": {},
   "outputs": [],
   "source": [
    "import sys\n",
    "sys.path.append('C:\\\\users\\sy\\ReinforcementLearningAtoZ')"
   ]
  },
  {
   "cell_type": "code",
   "execution_count": 8,
   "metadata": {},
   "outputs": [],
   "source": [
    "from src.common.gridworld import GridworldEnv"
   ]
  },
  {
   "cell_type": "code",
   "execution_count": 13,
   "metadata": {},
   "outputs": [],
   "source": [
    "num_y, num_x = 4, 4\n",
    "env = GridworldEnv(shape = [num_y, num_x])\n",
    "# 4x4의 GridWorld이고 16개의 state 그리고 4개의 action을 가지고 있다."
   ]
  },
  {
   "cell_type": "code",
   "execution_count": 15,
   "metadata": {},
   "outputs": [],
   "source": [
    "observation_space = env.observation_space\n",
    "action_space = env.action_space"
   ]
  },
  {
   "cell_type": "code",
   "execution_count": 19,
   "metadata": {},
   "outputs": [
    {
     "data": {
      "text/plain": [
       "(4, 16, 16)"
      ]
     },
     "execution_count": 19,
     "metadata": {},
     "output_type": "execute_result"
    }
   ],
   "source": [
    "import numpy as np\n",
    "P = env.P_tensor\n",
    "# action 4 , state 16 , next state 16\n",
    "R = env.R_tensor \n",
    "# state 16, action 4"
   ]
  },
  {
   "cell_type": "code",
   "execution_count": 29,
   "metadata": {},
   "outputs": [],
   "source": [
    "_ = env.reset()\n",
    "action_mapper = {\n",
    "    0 : 'UP',\n",
    "    1 : 'RIGHT',\n",
    "    2 : 'DOWN' ,\n",
    "    3 : 'LEFT'\n",
    "}"
   ]
  },
  {
   "cell_type": "code",
   "execution_count": 31,
   "metadata": {},
   "outputs": [
    {
     "name": "stdout",
     "output_type": "stream",
     "text": [
      "At t = 0\n",
      "==========\n",
      "T  o  o  x\n",
      "o  o  o  o\n",
      "o  o  o  o\n",
      "o  o  o  T\n",
      "==========\n",
      "At t = 1\n",
      "==========\n",
      "T  o  o  o\n",
      "o  o  o  x\n",
      "o  o  o  o\n",
      "o  o  o  T\n",
      "==========\n",
      "At t = 2\n",
      "==========\n",
      "T  o  o  o\n",
      "o  o  o  x\n",
      "o  o  o  o\n",
      "o  o  o  T\n",
      "==========\n",
      "At t = 3\n",
      "==========\n",
      "T  o  o  o\n",
      "o  o  o  o\n",
      "o  o  o  x\n",
      "o  o  o  T\n",
      "==========\n",
      "At t = 4\n",
      "==========\n",
      "T  o  o  o\n",
      "o  o  o  x\n",
      "o  o  o  o\n",
      "o  o  o  T\n",
      "==========\n",
      "At t = 5\n",
      "==========\n",
      "T  o  o  x\n",
      "o  o  o  o\n",
      "o  o  o  o\n",
      "o  o  o  T\n",
      "==========\n",
      "At t = 6\n",
      "==========\n",
      "T  o  o  x\n",
      "o  o  o  o\n",
      "o  o  o  o\n",
      "o  o  o  T\n",
      "==========\n",
      "At t = 7\n",
      "==========\n",
      "T  o  o  o\n",
      "o  o  o  x\n",
      "o  o  o  o\n",
      "o  o  o  T\n",
      "==========\n",
      "At t = 8\n",
      "==========\n",
      "T  o  o  o\n",
      "o  o  o  x\n",
      "o  o  o  o\n",
      "o  o  o  T\n",
      "==========\n",
      "At t = 9\n",
      "==========\n",
      "T  o  o  o\n",
      "o  o  o  o\n",
      "o  o  o  x\n",
      "o  o  o  T\n",
      "==========\n",
      "At t = 10\n",
      "==========\n",
      "T  o  o  o\n",
      "o  o  o  o\n",
      "o  o  o  x\n",
      "o  o  o  T\n",
      "==========\n",
      "At t = 11\n",
      "==========\n",
      "T  o  o  o\n",
      "o  o  o  o\n",
      "o  o  o  x\n",
      "o  o  o  T\n",
      "==========\n",
      "At t = 12\n",
      "==========\n",
      "T  o  o  o\n",
      "o  o  o  o\n",
      "o  o  o  x\n",
      "o  o  o  T\n",
      "==========\n",
      "At t = 13\n",
      "==========\n",
      "T  o  o  o\n",
      "o  o  o  o\n",
      "o  o  x  o\n",
      "o  o  o  T\n",
      "==========\n",
      "At t = 14\n",
      "==========\n",
      "T  o  o  o\n",
      "o  o  o  o\n",
      "o  o  o  x\n",
      "o  o  o  T\n",
      "==========\n"
     ]
    }
   ],
   "source": [
    "step_counter = 0\n",
    "while True :\n",
    "    print(\"At t = {}\".format(step_counter))\n",
    "    env._render()\n",
    "    \n",
    "    cur_state = env.s\n",
    "    action = np.random.randint(low=0, high=4)\n",
    "    next_state, reward, done, info = env.step(action)\n",
    "    \n",
    "    step_counter += 1\n",
    "    if done :\n",
    "        break\n",
    "    "
   ]
  },
  {
   "cell_type": "code",
   "execution_count": 34,
   "metadata": {},
   "outputs": [],
   "source": [
    "def run_episode(env, s0):\n",
    "    _ = env.reset()\n",
    "    env.s = s0\n",
    "    \n",
    "    step_counter = 0\n",
    "    while True :\n",
    "        action = np.random.randint(low=0, high=4)\n",
    "        next_state, reward, done, info = env.step(action)\n",
    "        step_counter += 1\n",
    "        if done:\n",
    "            break\n",
    "    return step_counter"
   ]
  },
  {
   "cell_type": "code",
   "execution_count": 35,
   "metadata": {},
   "outputs": [
    {
     "name": "stdout",
     "output_type": "stream",
     "text": [
      "Episode 0 | Length of episode : 11\n",
      "Episode 1 | Length of episode : 7\n",
      "Episode 2 | Length of episode : 5\n",
      "Episode 3 | Length of episode : 22\n",
      "Episode 4 | Length of episode : 14\n",
      "Episode 5 | Length of episode : 10\n",
      "Episode 6 | Length of episode : 13\n",
      "Episode 7 | Length of episode : 12\n",
      "Episode 8 | Length of episode : 6\n",
      "Episode 9 | Length of episode : 37\n",
      "Episode 10 | Length of episode : 17\n",
      "Episode 11 | Length of episode : 29\n",
      "Episode 12 | Length of episode : 33\n",
      "Episode 13 | Length of episode : 22\n",
      "Episode 14 | Length of episode : 15\n",
      "Episode 15 | Length of episode : 16\n",
      "Episode 16 | Length of episode : 3\n",
      "Episode 17 | Length of episode : 13\n",
      "Episode 18 | Length of episode : 12\n",
      "Episode 19 | Length of episode : 7\n"
     ]
    }
   ],
   "source": [
    "n_episode =20\n",
    "s0 = 6\n",
    "for i in range(n_episode) :\n",
    "    len_ep = run_episode(env,s0)\n",
    "    print(\"Episode {} | Length of episode : {}\".format(i,len_ep))"
   ]
  },
  {
   "cell_type": "code",
   "execution_count": null,
   "metadata": {},
   "outputs": [],
   "source": []
  }
 ],
 "metadata": {
  "kernelspec": {
   "display_name": "Python 3",
   "language": "python",
   "name": "python3"
  },
  "language_info": {
   "codemirror_mode": {
    "name": "ipython",
    "version": 3
   },
   "file_extension": ".py",
   "mimetype": "text/x-python",
   "name": "python",
   "nbconvert_exporter": "python",
   "pygments_lexer": "ipython3",
   "version": "3.6.10"
  }
 },
 "nbformat": 4,
 "nbformat_minor": 4
}
